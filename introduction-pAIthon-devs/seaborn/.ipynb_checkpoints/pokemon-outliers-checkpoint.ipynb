{
 "cells": [
  {
   "cell_type": "code",
   "execution_count": null,
   "metadata": {
    "jukit_cell_id": "k1LwgcKMag"
   },
   "outputs": [],
   "source": [
    "import numpy as np\n",
    "import pandas as pd\n",
    "import matplotlib.pyplot as plt\n",
    "import seaborn as sb\n",
    "# %matplotlib inline\n",
    "\n",
    "pokemon = pd.read_csv('./pokemon.csv')"
   ]
  },
  {
   "cell_type": "markdown",
   "metadata": {
    "jukit_cell_id": "VEQ5NNc7W6"
   },
   "source": [
    "# Pokemon to see the data outliers and manage them"
   ]
  },
  {
   "cell_type": "code",
   "execution_count": null,
   "metadata": {
    "jukit_cell_id": "6XIDhD7MOh"
   },
   "outputs": [],
   "source": [
    "delta = 0.5;\n",
    "bins = np.arange(pokemon['height'].min(), pokemon['height'].max() + delta, delta)\n",
    "plt.hist(data=pokemon, x = 'Height', bins = bins)"
   ]
  },
  {
   "cell_type": "markdown",
   "metadata": {
    "jukit_cell_id": "9NOwsfhc38"
   },
   "source": [
    "## Slim the data to focus on a [0, 6] limits"
   ]
  },
  {
   "cell_type": "code",
   "execution_count": null,
   "metadata": {
    "jukit_cell_id": "MSCqnvRfJy"
   },
   "outputs": [],
   "source": [
    "plt.hist(data=pokemon, x = 'Height', bins = bins)\n",
    "plt.xlim(0, 6)"
   ]
  }
 ],
 "metadata": {
  "anaconda-cloud": {},
  "kernelspec": {
   "display_name": "Python 3 (ipykernel)",
   "language": "python",
   "name": "python3"
  },
  "language_info": {
   "codemirror_mode": {
    "name": "ipython",
    "version": 3
   },
   "file_extension": ".py",
   "mimetype": "text/x-python",
   "name": "python",
   "nbconvert_exporter": "python",
   "pygments_lexer": "ipython3",
   "version": "3.8.13"
  }
 },
 "nbformat": 4,
 "nbformat_minor": 4
}
