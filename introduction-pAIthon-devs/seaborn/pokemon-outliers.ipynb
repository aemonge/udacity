{
  "cells": [
    {
      "cell_type": "code",
      "metadata": {
        "jukit_cell_id": "k1LwgcKMag"
      },
      "source": [
        "import numpy as np\n",
        "import pandas as pd\n",
        "import math\n",
        "import matplotlib.pyplot as plt\n",
        "import seaborn as sb\n",
        "# %matplotlib inline\n",
        "\n",
        "pokemon = pd.read_csv('./pokemon.csv')"
      ],
      "outputs": [],
      "execution_count": null
    },
    {
      "cell_type": "markdown",
      "metadata": {
        "jukit_cell_id": "VEQ5NNc7W6"
      },
      "source": [
        "# Pokemon to see the data outliers and manage them"
      ]
    },
    {
      "cell_type": "code",
      "metadata": {
        "jukit_cell_id": "6XIDhD7MOh"
      },
      "source": [
        "delta = 0.5;\n",
        "# pokemon['height'].min() => 0.1\n",
        "bins = np.arange(pokemon['height'].min(), pokemon['height'].max() + delta, delta)\n",
        "plt.hist(data=pokemon, x = 'height', bins = bins)"
      ],
      "outputs": [],
      "execution_count": null
    },
    {
      "cell_type": "markdown",
      "metadata": {
        "jukit_cell_id": "9NOwsfhc38"
      },
      "source": [
        "## Slim the data to focus on a [0, 6] limits"
      ]
    },
    {
      "cell_type": "code",
      "metadata": {
        "jukit_cell_id": "MSCqnvRfJy"
      },
      "source": [
        "plt.hist(data=pokemon, x = 'height', bins = bins)\n",
        "plt.xlim(0, 6)"
      ],
      "outputs": [],
      "execution_count": null
    },
    {
      "cell_type": "markdown",
      "metadata": {
        "jukit_cell_id": "jlIunTK8pd"
      },
      "source": [
        "# Scale the data to a logarithmically scale to appreciate the data better\n",
        "## Basic\n",
        "Note that you can either scale the full data, or simply the visualization. Making only the visualization change, is\n",
        "easier to read since noone mentally knows that 40k = log10(`4,6`)."
      ]
    },
    {
      "cell_type": "code",
      "metadata": {
        "jukit_cell_id": "KUPn9RCGQL"
      },
      "source": [
        "delta = 40\n",
        "bins = np.arange(pokemon['weight'].min(), pokemon['weight'].max() + delta, delta)\n",
        "plt.hist(data = pokemon, x = 'weight', bins=bins)"
      ],
      "outputs": [],
      "execution_count": null
    },
    {
      "cell_type": "markdown",
      "metadata": {
        "jukit_cell_id": "a7iPZTTs1P"
      },
      "source": [
        "## Scaled and tidy"
      ]
    },
    {
      "cell_type": "code",
      "metadata": {
        "jukit_cell_id": "rJSKkXjpUh"
      },
      "source": [
        "delta = 0.1 # logDesc = np.log10(pokemon['weight']).describe()\n",
        "min = math.floor(np.log10(pokemon['weight']).min())\n",
        "max = math.ceil(np.log10(pokemon['weight']).max())\n",
        "bins = 10 ** np.arange(min, max + delta, delta)\n",
        "plt.hist(data = pokemon, x = 'weight', bins=bins, rwidth=0.88)\n",
        "plt.xscale('log')"
      ],
      "outputs": [],
      "execution_count": null
    },
    {
      "cell_type": "markdown",
      "metadata": {
        "jukit_cell_id": "BoioXvKecd"
      },
      "source": [
        "## Hard coding ticks, to add threes to see the data better\n",
        "Just to understand the X axis better, and add readability."
      ]
    },
    {
      "cell_type": "code",
      "metadata": {
        "jukit_cell_id": "SFrAkWv90j"
      },
      "source": [
        "ticks = [0.1, 0.3, 1, 3, 10, 30, 100, 300, 1000]\n",
        "labels = [ \"{}\".format(v) for v in ticks ]\n",
        "plt.hist(data = pokemon, x = 'weight', bins=bins, rwidth=0.88)\n",
        "plt.xscale('log')\n",
        "plt.xticks(ticks, labels)"
      ],
      "outputs": [],
      "execution_count": null
    }
  ],
  "metadata": {
    "anaconda-cloud": {},
    "kernelspec": {
      "display_name": "python",
      "language": "python",
      "name": "python3"
    }
  },
  "nbformat": 4,
  "nbformat_minor": 4
}