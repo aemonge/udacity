{
  "cells": [
    {
      "cell_type": "code",
      "metadata": {
        "jukit_cell_id": "mZ4hT70dFv"
      },
      "source": [
        "%%html\n",
        "<script>\n",
        "    // AUTORUN ALL CELLS ON NOTEBOOK-LOAD!\n",
        "    require(\n",
        "        ['base/js/namespace', 'jquery'],\n",
        "        function(jupyter, $) {\n",
        "            $(jupyter.events).on(\"kernel_ready.Kernel\", function () {\n",
        "                console.log(\"Auto-running all cells-below...\");\n",
        "                jupyter.actions.call('jupyter-notebook:run-all-cells-below');\n",
        "                jupyter.actions.call('jupyter-notebook:save-notebook');\n",
        "            });\n",
        "        }\n",
        "    );\n",
        "</script>"
      ],
      "outputs": [],
      "execution_count": null
    },
    {
      "cell_type": "markdown",
      "metadata": {
        "jukit_cell_id": "VEQ5NNc7W6"
      },
      "source": [
        "# Pokemon with Pie/Donut charts\n",
        "> Above is the initialization"
      ]
    },
    {
      "cell_type": "code",
      "metadata": {
        "jukit_cell_id": "6XIDhD7MOh"
      },
      "source": [
        "import numpy as np\n",
        "import pandas as pd\n",
        "import matplotlib.pyplot as plt\n",
        "import seaborn as sb\n",
        "\n",
        "# %matplotlib inline\n",
        "\n",
        "pokemon = pd.read_csv('./pokemon.csv')"
      ],
      "outputs": [],
      "execution_count": null
    },
    {
      "cell_type": "markdown",
      "metadata": {
        "jukit_cell_id": "glAddV0kac"
      },
      "source": [
        "# Rank the pokemons by speed with a speed check of `3`"
      ]
    },
    {
      "cell_type": "code",
      "metadata": {
        "jukit_cell_id": "TCjxPNNUdI"
      },
      "source": [
        "inc = 3\n",
        "bins = np.arange(pokemon['speed'].min(), pokemon['speed'].max() + inc, inc)\n",
        "plt.hist(data = pokemon, x = 'speed', bins = bins)"
      ],
      "outputs": [],
      "execution_count": null
    },
    {
      "cell_type": "markdown",
      "metadata": {
        "jukit_cell_id": "v2l8llXOqc"
      },
      "source": [
        "# Rank the pokemons by speed with a speed check of `10`\n",
        "## **but** \u2733\ufe0f  using seaborn and not matplotlib."
      ]
    },
    {
      "cell_type": "code",
      "metadata": {
        "jukit_cell_id": "ELJt0iOVBm"
      },
      "source": [
        "inc = 10\n",
        "bins = np.arange(pokemon['speed'].min(), pokemon['speed'].max() + inc, inc)\n",
        "sb.displot(pokemon['speed'], kde = True) # kde = False -> To remove the line"
      ],
      "outputs": [],
      "execution_count": null
    }
  ],
  "metadata": {
    "anaconda-cloud": {},
    "kernelspec": {
      "display_name": "python",
      "language": "python",
      "name": "python3"
    }
  },
  "nbformat": 4,
  "nbformat_minor": 4
}